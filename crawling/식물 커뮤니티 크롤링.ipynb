{
  "nbformat": 4,
  "nbformat_minor": 0,
  "metadata": {
    "colab": {
      "provenance": []
    },
    "kernelspec": {
      "name": "python3",
      "display_name": "Python 3"
    },
    "language_info": {
      "name": "python"
    }
  },
  "cells": [
    {
      "cell_type": "code",
      "execution_count": 16,
      "metadata": {
        "id": "pze88uGR7qD_"
      },
      "outputs": [],
      "source": [
        "import requests\n",
        "from bs4 import BeautifulSoup\n",
        "from tqdm import tqdm\n",
        "import time\n",
        "import pandas as pd \n",
        "\n",
        "\n",
        "def dcinside_tree(start_page, last_page):\n",
        "    # 게시물 리스트를 담을 리스트 생성\n",
        "    post_list = []\n",
        "\n",
        "    # User-Agent 설정\n",
        "    headers = {'User-Agent': 'Mozilla/5.0 (Macintosh; Intel Mac OS X 10_15_7) AppleWebKit/537.36 (KHTML, like Gecko) Chrome/112.0.0.0 Safari/537.36',\n",
        "               'Referer' : 'https://www.google.com/',\n",
        "               'Content-Type' : 'text/html; charset=UTF-8'}\n",
        "\n",
        "    # 페이지 범위만큼 반복해서 크롤링\n",
        "    for page_num in tqdm(range(start_page, last_page+1)):\n",
        "        # 페이지 URL 설정\n",
        "        page_url = f'https://gall.dcinside.com/board/lists/?id=tree&page={page_num}&exception_mode=recommend'\n",
        "\n",
        "        # 페이지 요청\n",
        "        res = requests.get(page_url, headers=headers)\n",
        "\n",
        "        # BeautifulSoup으로 파싱\n",
        "        soup = BeautifulSoup(res.content, 'html.parser')\n",
        "\n",
        "        # 게시물 리스트 가져오기\n",
        "        posts = soup.find_all('tr', {'class': 'ub-content us-post'})\n",
        "\n",
        "        # 게시물 정보 추출\n",
        "        for post in posts:\n",
        "            # 게시물 제목 가져오기\n",
        "            title = post.find('td', {'class': 'gall_tit ub-word'}).find('a').text.strip()\n",
        "\n",
        "            # 조회수 가져오기 \n",
        "            view = post.find('td', {'class': 'gall_count'}).text.strip()\n",
        "\n",
        "            # 추천수 가져오기 \n",
        "            recommend = post.find('td', {'class': 'gall_recommend'}).text.strip()\n",
        "\n",
        "            # 게시물 내용 가져오기\n",
        "            content_url = 'https://gall.dcinside.com' + post.find('td', {'class': 'gall_tit ub-word'}).find('a')['href']\n",
        "            content_res = requests.get(content_url, headers=headers)\n",
        "            content_soup = BeautifulSoup(content_res.content, 'html.parser')\n",
        "            content_text = content_soup.find('div', {'class': 'write_div'}).text.strip()\n",
        "\n",
        "            # 게시물 시간 가져오기\n",
        "            time = post.find('td', {'class': 'gall_date'}).text.strip()\n",
        "\n",
        "            # 게시물 정보를 post_list에 추가\n",
        "            post_list.append([title, view, recommend, content_text, time, content_url])\n",
        "            \n",
        "    df = pd.DataFrame(post_list, columns=['title', 'view', 'recommend', 'content_text', 'time', 'content_url'])       \n",
        "    return df"
      ]
    },
    {
      "cell_type": "code",
      "source": [
        "plant_1 = dcinside_tree(1, 5)\n",
        "plant_1.to_csv('plant_1.csv', index=False)"
      ],
      "metadata": {
        "colab": {
          "base_uri": "https://localhost:8080/"
        },
        "id": "VllI14KlPe02",
        "outputId": "0bd23c05-7fbe-46fc-875b-89dce0746d40"
      },
      "execution_count": 18,
      "outputs": [
        {
          "output_type": "stream",
          "name": "stderr",
          "text": [
            "100%|██████████| 5/5 [07:28<00:00, 89.80s/it]\n"
          ]
        }
      ]
    },
    {
      "cell_type": "code",
      "source": [
        "plant_2 = dcinside_tree(6, 10)\n",
        "plant_2.to_csv('plant_2.csv', index=False)"
      ],
      "metadata": {
        "id": "-VHvUNzh96Hd"
      },
      "execution_count": null,
      "outputs": []
    },
    {
      "cell_type": "code",
      "source": [
        "plant_3 = dcinside_tree(11, 15)\n",
        "plant_3.to_csv('plant_3.csv', index=False)"
      ],
      "metadata": {
        "id": "at5PIv52H8Vi"
      },
      "execution_count": null,
      "outputs": []
    },
    {
      "cell_type": "code",
      "source": [
        "plant_4 = dcinside_tree(16, 20)\n",
        "plant_4.to_csv('plant_4.csv', index=False)"
      ],
      "metadata": {
        "id": "OBo_xteaRLAD"
      },
      "execution_count": null,
      "outputs": []
    }
  ]
}
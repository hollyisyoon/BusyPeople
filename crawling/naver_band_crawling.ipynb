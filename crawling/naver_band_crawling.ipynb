{
 "cells": [
  {
   "cell_type": "code",
   "execution_count": null,
   "metadata": {},
   "outputs": [],
   "source": [
    "! pip install selenium\n",
    "import time\n",
    "from selenium import webdriver\n",
    "from selenium.webdriver.common.by import By\n",
    "from selenium.webdriver.chrome.service import Service\n",
    "import time\n",
    "import pandas as pd\n",
    "driver = webdriver.Chrome('chromedriver')\n",
    "service = Service('/Users/hollyyoon/Documents/chromedriver')\n",
    "browser = webdriver.Chrome(service=service)\n",
    "from bs4 import BeautifulSoup as bs"
   ]
  },
  {
   "cell_type": "code",
   "execution_count": null,
   "metadata": {},
   "outputs": [],
   "source": [
    "def get_detail(page_no):\n",
    "    browser = webdriver.Chrome()\n",
    "    baseurl = f'https://band.us/band/86294308/post/{page_no}'\n",
    "    browser.get(baseurl)\n",
    "    browser.implicitly_wait(2)\n",
    "    try :\n",
    "        li_list = browser.find_elements(By.CLASS_NAME, 'postMain')\n",
    "    except :\n",
    "        browser.quit()\n",
    "    \n",
    "    df = []\n",
    "    for x in li_list:\n",
    "        data = {}\n",
    "        data['link'] = baseurl\n",
    "        data['writer'] = x.find_element(By.CLASS_NAME, 'text').text\n",
    "        data['date'] = x.find_element(By.TAG_NAME, 'time').text\n",
    "        data['view'] = x.find_element(By.CLASS_NAME, 'readCount').text\n",
    "        data['text'] = x.find_element(By.CLASS_NAME, 'txtBody').text.strip().replace('\\n','')      \n",
    "        df.append(data)\n",
    "    return pd.DataFrame(df)\n",
    "    browser.quit()\n",
    "    "
   ]
  },
  {
   "cell_type": "code",
   "execution_count": null,
   "metadata": {},
   "outputs": [],
   "source": [
    "df = []\n",
    "for x in range(1, 200):\n",
    "    y = get_detail(x)\n",
    "    if isinstance(y, pd.DataFrame):\n",
    "        df.append(y)\n",
    "df = pd.concat(df)"
   ]
  },
  {
   "cell_type": "code",
   "execution_count": null,
   "metadata": {},
   "outputs": [],
   "source": [
    "import os \n",
    "def create_csv(df, csv_name):\n",
    "    desktop_path = os.path.join(os.path.expanduser('/Users/hollyyoon/Documents/holly-vscode/venv/csv'))\n",
    "    csv_path = os.path.join(desktop_path, csv_name)\n",
    "    df.to_csv(csv_path)"
   ]
  },
  {
   "cell_type": "code",
   "execution_count": null,
   "metadata": {},
   "outputs": [],
   "source": [
    "create_csv(df, '200번까지')"
   ]
  }
 ],
 "metadata": {
  "kernelspec": {
   "display_name": "venv",
   "language": "python",
   "name": "python3"
  },
  "language_info": {
   "name": "python",
   "version": "3.9.6 (default, Oct 18 2022, 12:41:40) \n[Clang 14.0.0 (clang-1400.0.29.202)]"
  },
  "orig_nbformat": 4,
  "vscode": {
   "interpreter": {
    "hash": "6e9d7d7c6ba0443d3e9d95b4621b3e8e28e8c50deba393af7b7f3a9b3c383b7e"
   }
  }
 },
 "nbformat": 4,
 "nbformat_minor": 2
}
